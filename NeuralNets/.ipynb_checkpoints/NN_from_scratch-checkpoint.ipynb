{
 "cells": [
  {
   "cell_type": "markdown",
   "id": "317e9c90-9d46-4133-babf-60e25cd5ee5f",
   "metadata": {},
   "source": [
    "## Intro to Neural Nets : Self-learning\n",
    "### Abstract\n",
    "The purpose of this notebook is to learn the basics of how neural networks work.\n",
    "I will be working through Packt's *Machine Learning with Pytorch and Scikit-learn*,\n",
    "starting with chapter 2's introduction to building simple discrete neurons, to chapter\n",
    "11's exercise on building a multilayer perceptron to classify handwritten characters\n",
    "in the MNIST dataset.\n",
    "\n",
    "*(additionally, I feel I need to review my linear algebra, so rather than leverage numpy I will instead be writing my own linear algebra function in pure python)*"
   ]
  },
  {
   "cell_type": "markdown",
   "id": "2f79954b-5e3a-4801-a981-8f4267e42763",
   "metadata": {},
   "source": [
    "### Part 1: Building a neuron \n",
    "At it's most basic, an artificial neuron consists of three main components: weights; a bias; and an activation function.\n",
    "- **weights:** Each neuron has one or more inputs. Each of these inputs is multiplied by a weight that determines how much and in what direction each of these inputs should affect the neuron's output. After the inputs have been weighed, they are then summed.\n",
    "- **bias :** After the sum of weighed inputs has been computed, an additional value (+ or -) that is added to that sum.  This value makes it easier or harder for this neuron to turn on, effectively biassing it towards one state or another.\n",
    "- **activation function:** Because the weights and biases are unbound, the sum of the biases and weighed inputs is also unbound in both directions -- this is unwanted.  The activation function is a final step that conditions the sum in such a manner that it is bound to be no less than 0 and possibly no more than 1 depending on the exact activation function used"
   ]
  },
  {
   "cell_type": "markdown",
   "id": "a3e2cb6b-8714-435b-94d3-de9b1147b5f6",
   "metadata": {},
   "source": [
    "First we need to be able to instantiate a neuron with those 3 basic components:"
   ]
  },
  {
   "cell_type": "code",
   "execution_count": 7,
   "id": "2c763a26-37f0-4c40-b1ad-b177ebf67aa8",
   "metadata": {},
   "outputs": [],
   "source": [
    "from typing import Callable\n",
    "\n",
    "class neuron():\n",
    "    def __init__(self, weights: list[float], bias: float, activation_function: Callable[float,float]):\n",
    "        self.weights = weights\n",
    "        self.bias  = bias\n",
    "        self.activation_function = activation_function"
   ]
  },
  {
   "cell_type": "code",
   "execution_count": 95,
   "id": "766f070f-1870-4780-ad46-fc91f609aea6",
   "metadata": {},
   "outputs": [
    {
     "name": "stdout",
     "output_type": "stream",
     "text": [
      "88 88\n",
      "121.0\n"
     ]
    },
    {
     "data": {
      "image/png": "[encoded data removed]",
      "text/plain": [
       "<Figure size 640x480 with 1 Axes>"
      ]
     },
     "metadata": {},
     "output_type": "display_data"
    }
   ],
   "source": [
    "training_folder = int_folders[2] + '\\\\train*'\n",
    "images = glob(training_folder + '\\\\*')\n",
    "\n",
    "from imageio.v3 import imread\n",
    "import matplotlib.pyplot as plt\n",
    "from skimage.measure import block_reduce\n",
    "\n",
    "for image in images:\n",
    "    img = imread(image)[20:108,20:108,0]\n",
    "    #plt.imshow(img, cmap='gray')\n",
    "    #plt.show()\n",
    "    print(len(img),len(img[0]))\n",
    "    print(len(img) * len(img[0]) / 8/8)\n",
    "\n",
    "    imshow(block_reduce(img,(8,8)), cmap='gray')\n",
    "    break\n",
    "\n",
    "\n",
    "\n",
    "\n"
   ]
  },
  {
   "cell_type": "markdown",
   "id": "c6df245f-d334-4a74-8d8b-5587c454fe2c",
   "metadata": {},
   "source": [
    "#### MLP with 1 hidden layer\n",
    "\n",
    "Initial layer: 121 neurons\\\n",
    "hidden layer: 50 neurons\\\n",
    "output layer: 10 neurons"
   ]
  },
  {
   "cell_type": "code",
   "execution_count": null,
   "id": "fef6acac-154e-4f4a-b995-c4559c45a7d9",
   "metadata": {},
   "outputs": [],
   "source": [
    "\n",
    "len_Ai = 121\n",
    "len_Ah1= 50\n",
    "len_A0 = 10\n",
    "\n"
   ]
  }
 ],
 "metadata": {
  "kernelspec": {
   "display_name": "Python 3 (ipykernel)",
   "language": "python",
   "name": "python3"
  },
  "language_info": {
   "codemirror_mode": {
    "name": "ipython",
    "version": 3
   },
   "file_extension": ".py",
   "mimetype": "text/x-python",
   "name": "python",
   "nbconvert_exporter": "python",
   "pygments_lexer": "ipython3",
   "version": "3.11.9"
  }
 },
 "nbformat": 4,
 "nbformat_minor": 5
}
