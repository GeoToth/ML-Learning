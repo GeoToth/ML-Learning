{
 "cells": [
  {
   "cell_type": "markdown",
   "id": "317e9c90-9d46-4133-babf-60e25cd5ee5f",
   "metadata": {},
   "source": [
    "## Intro to Neural Nets : Self-learning\n",
    "### Abstract\n",
    "The purpose of this notebook is to learn the basics of how neural networks work.\n",
    "I will be *somewhat* following Packt's *Machine Learning with Pytorch and Scikit-learn,\n",
    "starting with chapter 2's introduction to building simple discrete neurons, but will be \n",
    "integrating what I've previously learned from other sources. \n",
    "\n",
    "The resulting code is meant to be educational and illustrate concepts, not be \n",
    "performative; the final neural net won't be remotely optimized.  A later notebook will \n",
    "focus on implimenting a neural network in a more functional and practical manner using\n",
    "numpy's optimized data structures and matrix functions.\n",
    "\n",
    "*(additionally, I feel I need to review my linear algebra, so rather than leverage numpy \n",
    "I will instead be writing my own linear algebra functions in pure python)*"
   ]
  },
  {
   "cell_type": "markdown",
   "id": "2f79954b-5e3a-4801-a981-8f4267e42763",
   "metadata": {},
   "source": [
    "### Part 1: Building a neuron \n",
    "At it's most basic, an artificial neuron consists of three main components: weights; a bias; and an activation function.\n",
    "- **weights:** Each neuron has one or more inputs. Each of these inputs is multiplied by a weight that determines how much and in what direction each of these inputs should affect the neuron's output. After the inputs have been weighed, they are then summed.\n",
    "- **bias :** After the sum of weighed inputs has been computed, an additional value (+ or -) that is added to that sum.  This value makes it easier or harder for this neuron to turn on, effectively biassing it towards one state or another.\n",
    "- **activation function:** Because the weights and biases are unbound, the sum of the biases and weighed inputs is also unbound in both directions -- this is unwanted.  The activation function is a final step that conditions the sum in such a manner that it is bound to be no less than 0 and possibly no more than 1 depending on the exact activation function used"
   ]
  },
  {
   "cell_type": "markdown",
   "id": "a3e2cb6b-8714-435b-94d3-de9b1147b5f6",
   "metadata": {},
   "source": [
    "First we need to be able to instantiate a neuron with those 3 basic components.  Let's write a constructor that initializes it with random weights and biases:"
   ]
  },
  {
   "cell_type": "code",
   "execution_count": 1,
   "id": "2c763a26-37f0-4c40-b1ad-b177ebf67aa8",
   "metadata": {},
   "outputs": [],
   "source": [
    "from typing import Callable\n",
    "from random import random\n",
    "\n",
    "class Neuron():\n",
    "\n",
    "    def __init__(self, num_of_inputs: int, activation_function: str):\n",
    "        \"\"\"Instantiates a neuron with random weights and bias\"\"\"\n",
    "\n",
    "        # validate args:\n",
    "        if num_of_inputs < 1:\n",
    "            print(\"there must be more than 1 input to a neuron\")\n",
    "            return\n",
    "\n",
    "        self.num_of_inputs = num_of_inputs\n",
    "        self.weights = [(random()-0.5) * 2 for i in range(num_of_inputs)]\n",
    "        self.bias  = random()\n",
    "        if activation_function == \"RELU\":\n",
    "            self.activation_function = Neuron.RELU\n",
    "        if activation_function == \"binary\":\n",
    "            self.activation_function = Neuron.binary\n",
    "\n",
    "\n",
    "# For an activation function, let's start with a simple RELU.\n",
    "# Lets do this by extending the Neuron class with a class RELU method\n",
    "class Neuron(Neuron):\n",
    "    \n",
    "    @classmethod\n",
    "    def RELU(self,sum_of_weighed_inputs_and_bias):\n",
    "        if sum_of_weighed_inputs_and_bias < 0:\n",
    "            return(0)\n",
    "        else: \n",
    "            return(sum_of_weighed_inputs_and_bias)\n",
    "\n",
    "    @classmethod\n",
    "    def binary(self,sum_of_weighed_inputs_and_bias):\n",
    "        if sum_of_weighed_inputs_and_bias < 0.5:\n",
    "            return(0)\n",
    "        else: \n",
    "            return(1)\n"
   ]
  },
  {
   "cell_type": "markdown",
   "id": "e7d4b0ed-ce10-40c4-907e-7d5f809abb39",
   "metadata": {},
   "source": [
    "Now we need to add a method to allow this neuron to take a vector of inputs and compute an output.  This involves multiplying the transposed weights vector by the inputs vector and then adding the bias.  So first we need functions to transpose and multiply matrices:"
   ]
  },
  {
   "cell_type": "code",
   "execution_count": 2,
   "id": "76f21bed-ac1a-403d-a3fa-ecd8b898a3e1",
   "metadata": {},
   "outputs": [],
   "source": [
    "def matrix_transpose(matrix):\n",
    "    # If a matrix has n columns and m rows, its transpose\n",
    "    # will have m columns and n rows, so let's build a \n",
    "    # zeros matrix with that shape:\n",
    "    cols = len(matrix)\n",
    "    rows = len(matrix[0])\n",
    "    mT = [[0 for _ in range(cols)] for _ in range(rows)]\n",
    "    \n",
    "    # use generator comprehension to populate zeros matrix\n",
    "    elements = (elem for row in matrix for elem in row)\n",
    "        \n",
    "    for col in range(cols):\n",
    "        for row in range(rows):\n",
    "            mT[row][col] = elements.__next__()\n",
    "\n",
    "    return(mT)\n",
    "\n",
    "\n",
    "def matrix_mult(A,B):\n",
    "    #Check that inner dimensions are equal:\n",
    "    assert len(A[0])==len(B)\n",
    "    \n",
    "    rows_A = len(A)\n",
    "    len_n = len(B)\n",
    "    cols_B = len(B[0])\n",
    "    \n",
    "    C = [[None for j in range(cols_B)] for i in range(rows_A)]\n",
    "    \n",
    "    for i in range(rows_A):\n",
    "        for j in range(cols_B):\n",
    "            A_row,B_col = A[i], [x[j] for x in B]\n",
    "            C[i][j] = sum([A_row[k] * B_col[k] for k in range(len_n)])\n",
    "        \n",
    "    return(C)"
   ]
  },
  {
   "cell_type": "code",
   "execution_count": null,
   "id": "76e2ab5d-be8f-434e-a602-70f7040d3230",
   "metadata": {},
   "outputs": [],
   "source": []
  },
  {
   "cell_type": "markdown",
   "id": "8fd62daf-6d87-42b4-b65d-0d26f68f90a6",
   "metadata": {},
   "source": [
    "Now that we have our matrix functions ready, let's define how a neuron calculates a preduction from inputs:"
   ]
  },
  {
   "cell_type": "code",
   "execution_count": 3,
   "id": "a4302c14-9823-498e-93a7-d813729a5c4f",
   "metadata": {},
   "outputs": [],
   "source": [
    "class Neuron(Neuron):\n",
    "\n",
    "    def predict(self, inputs: list[float]):\n",
    "\n",
    "        # make sure we have exactly 1 weight for each input:\n",
    "        assert(len(inputs)==len(self.weights))\n",
    "\n",
    "        weighted_sum = matrix_mult( matrix_transpose([self.weights]) , [inputs]) \n",
    "        biased_weighted_sum = weighted_sum[0][0] + self.bias\n",
    "        \n",
    "        return(self.activation_function(biased_weighted_sum))"
   ]
  },
  {
   "cell_type": "markdown",
   "id": "1ef6892a-f4a6-4977-8a9c-21e8b18d4630",
   "metadata": {},
   "source": [
    "At this point, we have an implimentation of an artificial neuron that can be instantiated with \n",
    "random weights and used in computation.  All that's missing is the ability to train the neuron, but before we can think about how to train a neuron, we first need data to train against.  Let's assume we have 2 predictors, x1 and x2, and are trying to predict class Y whose members are Red and Blue"
   ]
  },
  {
   "cell_type": "code",
   "execution_count": 4,
   "id": "4201c86a-9619-4b38-84d3-8c7687639eea",
   "metadata": {},
   "outputs": [],
   "source": [
    "def make_synthetic_data(inputs, num_synth_data):\n",
    "\n",
    "    # create pairs of random numbers (x1,x2) between -10 and 10\n",
    "    #data = [[(random() - .5) * 20, (random() - .5) * 20] for _ in range(num_synth_data)]\n",
    "    data = [[(random() - .5) * 20 for i in range(inputs)] for _ in range(num_synth_data)]\n",
    "    \n",
    "    # if x1 is greater, assign that data point to class 0, else class 1:\n",
    "    for data_point in data:\n",
    "        if data_point[0] >  data_point[1]:\n",
    "            data_point.append(0)\n",
    "        else:\n",
    "            data_point.append(1)\n",
    "\n",
    "    return(data)"
   ]
  },
  {
   "cell_type": "code",
   "execution_count": 5,
   "id": "60960a6c-087f-4a6c-b6d5-c8334d2986eb",
   "metadata": {},
   "outputs": [],
   "source": [
    "class Neuron(Neuron):\n",
    "\n",
    "    def train_once(self, data: list[list[float]], labels: list[float]):\n",
    "        predictions = [neuron.predict(row) for row in data]\n",
    "\n",
    "        correct_predictions = 0\n",
    "        for i in range(len(labels)):\n",
    "            if labels[i] == predictions[i]:\n",
    "                correct_predictions += 1\n",
    "        print(f\"Accuracy = {100 * correct_predictions/len(predictions)}%\")\n",
    "        \n",
    "\n",
    "        delta_weights_0 = []\n",
    "        delta_weights_1 = []\n",
    "        delta_biases = []\n",
    "        learning_rate = 0.01\n",
    "        for i in range(len(labels)):\n",
    "            error = labels[i] - predictions[i]\n",
    "            delta_weights_0.append(learning_rate * error * data[i][0])\n",
    "            delta_weights_1.append(learning_rate * error * data[i][1])\n",
    "            delta_biases.append(learning_rate * error)\n",
    "\n",
    "        delta_weight_0 = sum(delta_weights_0) / len(labels)\n",
    "        delta_weight_1 = sum(delta_weights_1) / len(labels)\n",
    "        delta_bias     = sum(delta_biases)    / len(labels)\n",
    "        \n",
    "        print(neuron.weights,neuron.bias)\n",
    "        self.update_weights_and_biases([delta_weight_0,delta_weight_1],delta_bias)\n",
    "        print(neuron.weights,neuron.bias)\n",
    "    \n",
    "    def update_weights_and_biases(self,delta_weights,delta_bias):\n",
    "        self.weights[0] += delta_weights[0]\n",
    "        self.weights[1] += delta_weights[1]\n",
    "        self.bias += delta_bias\n"
   ]
  },
  {
   "cell_type": "code",
   "execution_count": 21,
   "id": "8bd0acee-8c34-4eca-8e96-e694aa06f716",
   "metadata": {},
   "outputs": [
    {
     "name": "stdout",
     "output_type": "stream",
     "text": [
      "Accuracy = 20.0%\n",
      "[0.18013433772086596, 0.60852808342971] 0.9751428897776323\n",
      "[0.1411623975660223, 0.6202257073175755] 0.9711428897776323\n",
      "\n",
      "\n",
      "Accuracy = 20.0%\n",
      "[0.1411623975660223, 0.6202257073175755] 0.9711428897776323\n",
      "[0.10518040875085995, 0.6474012805657645] 0.9691428897776323\n",
      "\n",
      "\n",
      "Accuracy = 50.0%\n",
      "[0.10518040875085995, 0.6474012805657645] 0.9691428897776323\n",
      "[0.09200298135703158, 0.6582587298308729] 0.9661428897776323\n",
      "\n",
      "\n",
      "Accuracy = 30.0%\n",
      "[0.09200298135703158, 0.6582587298308729] 0.9661428897776323\n",
      "[0.056676059224152, 0.6819503980203134] 0.9651428897776323\n",
      "\n",
      "\n",
      "Accuracy = 60.0%\n",
      "[0.056676059224152, 0.6819503980203134] 0.9651428897776323\n",
      "[0.038102452261720286, 0.6830353500492666] 0.9631428897776323\n",
      "\n",
      "\n",
      "Accuracy = 70.0%\n",
      "[0.038102452261720286, 0.6830353500492666] 0.9631428897776323\n",
      "[0.032661882547460525, 0.6973486053103785] 0.9601428897776323\n"
     ]
    }
   ],
   "source": [
    "neuron = Neuron(2, \"binary\")\n",
    "data = make_synthetic_data(2,10)\n",
    "neuron.train_once([[row[0],row[1]] for row in data], [row[2] for row in data])\n",
    "print('\\n')\n",
    "data = make_synthetic_data(2,10)\n",
    "neuron.train_once([[row[0],row[1]] for row in data], [row[2] for row in data])\n",
    "print('\\n')\n",
    "data = make_synthetic_data(2,10)\n",
    "neuron.train_once([[row[0],row[1]] for row in data], [row[2] for row in data])\n",
    "print('\\n')\n",
    "data = make_synthetic_data(2,10)\n",
    "neuron.train_once([[row[0],row[1]] for row in data], [row[2] for row in data])\n",
    "print('\\n')\n",
    "data = make_synthetic_data(2,10)\n",
    "neuron.train_once([[row[0],row[1]] for row in data], [row[2] for row in data])\n",
    "print('\\n')\n",
    "data = make_synthetic_data(2,10)\n",
    "neuron.train_once([[row[0],row[1]] for row in data], [row[2] for row in data])"
   ]
  },
  {
   "cell_type": "code",
   "execution_count": null,
   "id": "be49de36-3140-4057-8b22-7b09ebfe24e1",
   "metadata": {},
   "outputs": [],
   "source": []
  },
  {
   "cell_type": "code",
   "execution_count": null,
   "id": "f3df2996-029b-472b-93ce-7e9245f8bcc1",
   "metadata": {},
   "outputs": [],
   "source": []
  }
 ],
 "metadata": {
  "kernelspec": {
   "display_name": "Python 3 (ipykernel)",
   "language": "python",
   "name": "python3"
  },
  "language_info": {
   "codemirror_mode": {
    "name": "ipython",
    "version": 3
   },
   "file_extension": ".py",
   "mimetype": "text/x-python",
   "name": "python",
   "nbconvert_exporter": "python",
   "pygments_lexer": "ipython3",
   "version": "3.11.9"
  }
 },
 "nbformat": 4,
 "nbformat_minor": 5
}
